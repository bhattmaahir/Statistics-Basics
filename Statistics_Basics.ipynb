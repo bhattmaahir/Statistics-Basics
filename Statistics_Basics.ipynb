{
  "nbformat": 4,
  "nbformat_minor": 0,
  "metadata": {
    "colab": {
      "provenance": []
    },
    "kernelspec": {
      "name": "python3",
      "display_name": "Python 3"
    },
    "language_info": {
      "name": "python"
    }
  },
  "cells": [
    {
      "cell_type": "markdown",
      "source": [
        "#Statistics Basics"
      ],
      "metadata": {
        "id": "UucRlZQhqVwq"
      }
    },
    {
      "cell_type": "markdown",
      "source": [
        "1. What is statistics, and why is it important?\n",
        "\n",
        "    Statistics is the branch of mathematics dealing with data collection, analysis, interpretation, and presentation. It helps in making informed decisions based on data patterns and insights.\n"
      ],
      "metadata": {
        "id": "kJD6NW8TqV4D"
      }
    },
    {
      "cell_type": "markdown",
      "source": [
        "\n",
        "2. What are the two main types of statistics?\n",
        "    \n",
        "    Descriptive Statistics\n",
        "\n",
        "    Inferential Statistics\n",
        "\n"
      ],
      "metadata": {
        "id": "oaffI2xmr_T9"
      }
    },
    {
      "cell_type": "markdown",
      "source": [
        "3. What are descriptive statistics?\n",
        "    \n",
        "    Descriptive statistics summarize and describe the features of a dataset through measures like mean, median, mode, standard deviation, etc.\n"
      ],
      "metadata": {
        "id": "fanivn42r_Yr"
      }
    },
    {
      "cell_type": "markdown",
      "source": [
        "\n",
        "4. What is inferential statistics?\n",
        "    \n",
        "    Inferential statistics make predictions or inferences about a population based on a sample of data.\n",
        "\n"
      ],
      "metadata": {
        "id": "Ey6w4OECr_dn"
      }
    },
    {
      "cell_type": "markdown",
      "source": [
        "5. What is sampling in statistics?\n",
        "\n",
        "    Sampling is the process of selecting a subset of individuals from a population to estimate characteristics of the whole population.\n"
      ],
      "metadata": {
        "id": "END7NVpJr_g6"
      }
    },
    {
      "cell_type": "markdown",
      "source": [
        "\n",
        "6. What are the different types of sampling methods?\n",
        "\n",
        "    Simple Random Sampling\n",
        "\n",
        "    Stratified Sampling\n",
        "\n",
        "    Systematic Sampling\n",
        "\n",
        "    Cluster Sampling\n",
        "\n",
        "    Convenience Sampling\n",
        "\n"
      ],
      "metadata": {
        "id": "TiiTnsqHr_lE"
      }
    },
    {
      "cell_type": "markdown",
      "source": [
        "7. What is the difference between random and non-random sampling?\n",
        "\n",
        "    Random Sampling: Every individual has an equal chance of being selected.\n",
        "\n",
        "    Non-random Sampling: Selection is based on subjective judgment rather than random chance.\n"
      ],
      "metadata": {
        "id": "sTF2icQZr_o7"
      }
    },
    {
      "cell_type": "markdown",
      "source": [
        "\n",
        "8. Define and give examples of qualitative and quantitative data.\n",
        "\n",
        "    Qualitative Data: Categorical (e.g., colors, names)\n",
        "\n",
        "    Quantitative Data: Numerical (e.g., height, weight)\n"
      ],
      "metadata": {
        "id": "2oroGZlmr_sT"
      }
    },
    {
      "cell_type": "markdown",
      "source": [
        "   \n",
        "9. What are the different types of data in statistics?\n",
        "\n",
        "    Nominal\n",
        "\n",
        "    Ordinal\n",
        "\n",
        "    Interval\n",
        "\n",
        "    Ratio\n"
      ],
      "metadata": {
        "id": "hezzFm9Ar_wF"
      }
    },
    {
      "cell_type": "markdown",
      "source": [
        "\n",
        "10. Explain nominal, ordinal, interval, and ratio levels of measurement.\n",
        "\n",
        "    Nominal: Categories with no order (e.g., gender)\n",
        "\n",
        "    Ordinal: Categories with order but no fixed interval (e.g., rankings)\n",
        "\n",
        "    Interval: Ordered, equal intervals, no true zero (e.g., temperature)\n",
        "\n",
        "    Ratio: Ordered, equal intervals, true zero exists (e.g., height)\n"
      ],
      "metadata": {
        "id": "W9KHwmJ1r_z2"
      }
    },
    {
      "cell_type": "markdown",
      "source": [
        "\n",
        "11. What is the measure of central tendency?\n",
        "    \n",
        "    It refers to a central or typical value for a dataset (mean, median, mode).\n"
      ],
      "metadata": {
        "id": "hZwdUkn6r_31"
      }
    },
    {
      "cell_type": "markdown",
      "source": [
        "\n",
        "12. Define mean, median, and mode.\n",
        "\n",
        "    Mean: Average\n",
        "\n",
        "    Median: Middle value\n",
        "\n",
        "    Mode: Most frequent value\n"
      ],
      "metadata": {
        "id": "ARmASf0ur_8g"
      }
    },
    {
      "cell_type": "markdown",
      "source": [
        "\n",
        "13. What is the significance of the measure of central tendency?\n",
        "    \n",
        "    It provides a single value that represents the center of the data distribution.\n"
      ],
      "metadata": {
        "id": "QvgYzdZqsABP"
      }
    },
    {
      "cell_type": "markdown",
      "source": [
        "\n",
        "14. What is variance, and how is it calculated?\n",
        "    \n",
        "    Variance measures how far each number in the dataset is from the mean.\n",
        "    \n",
        "    Formula:\n",
        "\n",
        "    Variance\n",
        "    =\n",
        "∑\n",
        "(\n",
        "𝑥\n",
        "𝑖\n",
        "−\n",
        "𝑥\n",
        "ˉ\n",
        ")\n",
        "2\n",
        "𝑛\n",
        "Variance=\n",
        "n\n",
        "∑(x\n",
        "i\n",
        "​\n",
        " −\n",
        "x\n",
        "ˉ\n",
        " )\n",
        "2\n",
        "\n",
        "​\n",
        "\n"
      ],
      "metadata": {
        "id": "7lno3rrHsAHY"
      }
    },
    {
      "cell_type": "markdown",
      "source": [
        "15. What is standard deviation, and why is it important?\n",
        "    \n",
        "    Standard deviation measures the amount of variation or dispersion in a dataset.\n",
        "    \n",
        "    It’s the square root of variance.\n"
      ],
      "metadata": {
        "id": "GkVJ_kiysAMe"
      }
    },
    {
      "cell_type": "markdown",
      "source": [
        "\n",
        "16. Define and explain the term range in statistics.\n",
        "    \n",
        "    Range = Maximum value - Minimum value.\n",
        "    \n",
        "    It shows the spread of the dataset.\n",
        "\n"
      ],
      "metadata": {
        "id": "g9vZNRiwsASI"
      }
    },
    {
      "cell_type": "markdown",
      "source": [
        "17. What is the difference between variance and standard deviation?\n",
        "\n",
        "    Variance: Average of squared differences from the mean.\n",
        "\n",
        "    Standard Deviation: Square root of variance.\n"
      ],
      "metadata": {
        "id": "k3-2G97tsAXy"
      }
    },
    {
      "cell_type": "markdown",
      "source": [
        "\n",
        "18. What is skewness in a dataset?\n",
        "    \n",
        "    Skewness measures the asymmetry of the probability distribution.\n",
        "\n",
        "    Sports performance analysis"
      ],
      "metadata": {
        "id": "Psv6K4WKsAdI"
      }
    },
    {
      "cell_type": "markdown",
      "source": [
        "19. What does it mean if a dataset is positively or negatively skewed?\n",
        "\n",
        "    Positively Skewed: Tail on the right side (more lower values)\n",
        "\n",
        "    Negatively Skewed: Tail on the left side (more higher values)\n",
        "\n",
        "\n"
      ],
      "metadata": {
        "id": "CVCaUZW4sAim"
      }
    },
    {
      "cell_type": "markdown",
      "source": [
        "20. Define and explain kurtosis.\n",
        "    \n",
        "    Kurtosis measures the \"tailedness\" of the distribution. High kurtosis indicates more extreme outliers.\n",
        "\n"
      ],
      "metadata": {
        "id": "sQbjPl7DsAn7"
      }
    },
    {
      "cell_type": "markdown",
      "source": [
        "21. What is the purpose of covariance?\n",
        "    \n",
        "    Covariance measures the directional relationship between two variables.\n",
        "\n"
      ],
      "metadata": {
        "id": "ykrSl0P9sAt8"
      }
    },
    {
      "cell_type": "markdown",
      "source": [
        "22. What does correlation measure in statistics?\n",
        "    \n",
        "    Correlation measures the strength and direction of a linear relationship between two variables.\n",
        "\n"
      ],
      "metadata": {
        "id": "_C9ikS3ysAzI"
      }
    },
    {
      "cell_type": "markdown",
      "source": [
        "23. What is the difference between covariance and correlation?\n",
        "\n",
        "    Covariance: Shows the direction of the relationship.\n",
        "\n",
        "    Correlation: Standardized form of covariance, ranges between -1 and 1.\n",
        "\n"
      ],
      "metadata": {
        "id": "YnFCi6ZZsA4F"
      }
    },
    {
      "cell_type": "markdown",
      "source": [
        "24. What are some real-world applications of statistics?\n",
        "\n",
        "    Weather forecasting\n",
        "\n",
        "    Stock market analysis\n",
        "\n",
        "    Quality control in manufacturing\n",
        "\n",
        "    Healthcare studies"
      ],
      "metadata": {
        "id": "XEHiK4fGsA9m"
      }
    },
    {
      "cell_type": "markdown",
      "source": [
        "# Practical Questions"
      ],
      "metadata": {
        "id": "cohoBW-ZwEQ6"
      }
    },
    {
      "cell_type": "code",
      "source": [
        "# 1. How do you calculate the mean, median, and mode of a dataset?\n",
        "\n",
        "# Example dataset\n",
        "data = [2, 4, 6, 8, 8, 10]\n",
        "\n",
        "# Mean\n",
        "mean = sum(data) / len(data)\n",
        "\n",
        "# Median\n",
        "data_sorted = sorted(data)\n",
        "n = len(data_sorted)\n",
        "if n % 2 == 0:\n",
        "    median = (data_sorted[n//2 - 1] + data_sorted[n//2]) / 2\n",
        "else:\n",
        "    median = data_sorted[n//2]\n",
        "\n",
        "# Mode\n",
        "frequency = {}\n",
        "for num in data:\n",
        "    frequency[num] = frequency.get(num, 0) + 1\n",
        "mode = max(frequency, key=frequency.get)\n",
        "\n",
        "# Print results\n",
        "print(\"Mean:\", mean)\n",
        "print(\"Median:\", median)\n",
        "print(\"Mode:\", mode)\n"
      ],
      "metadata": {
        "colab": {
          "base_uri": "https://localhost:8080/"
        },
        "id": "ZGVTEAjjwE-_",
        "outputId": "8b5f94ee-4b7c-415b-835e-10ff55d7a3c0"
      },
      "execution_count": 38,
      "outputs": [
        {
          "output_type": "stream",
          "name": "stdout",
          "text": [
            "Mean: 6.333333333333333\n",
            "Median: 7.0\n",
            "Mode: 8\n"
          ]
        }
      ]
    },
    {
      "cell_type": "code",
      "source": [
        "# 2. Write a Python program to compute the variance and standard deviation of a dataset.\n",
        "\n",
        "data = [10, 20, 30, 40, 50]\n",
        "\n",
        "variance = np.var(data)\n",
        "std_dev = np.std(data)\n",
        "\n",
        "print(\"Variance:\", variance)\n",
        "print(\"Standard Deviation:\", std_dev)\n"
      ],
      "metadata": {
        "colab": {
          "base_uri": "https://localhost:8080/"
        },
        "id": "Zm1RWM6CwoD2",
        "outputId": "c6ee86df-e802-4a46-c6fd-15ac4e9449e2"
      },
      "execution_count": 9,
      "outputs": [
        {
          "output_type": "stream",
          "name": "stdout",
          "text": [
            "Variance: 200.0\n",
            "Standard Deviation: 14.142135623730951\n"
          ]
        }
      ]
    },
    {
      "cell_type": "code",
      "source": [
        "# 3. Create a dataset and classify it into nominal, ordinal, interval, and ratio types.\n",
        "\n",
        "dataset = {\n",
        "    \"Nominal\": [\"Red\", \"Blue\", \"Green\"],\n",
        "    \"Ordinal\": [\"Small\", \"Medium\", \"Large\"],\n",
        "    \"Interval\": [10, 20, 30],  # Temperature (Celsius)\n",
        "    \"Ratio\": [5, 10, 15]       # Weight (Kg)\n",
        "}\n",
        "print(dataset)\n"
      ],
      "metadata": {
        "colab": {
          "base_uri": "https://localhost:8080/"
        },
        "id": "JHpoWHR70HQP",
        "outputId": "67406ebd-a038-45d3-cd2a-a172c43ada21"
      },
      "execution_count": 10,
      "outputs": [
        {
          "output_type": "stream",
          "name": "stdout",
          "text": [
            "{'Nominal': ['Red', 'Blue', 'Green'], 'Ordinal': ['Small', 'Medium', 'Large'], 'Interval': [10, 20, 30], 'Ratio': [5, 10, 15]}\n"
          ]
        }
      ]
    },
    {
      "cell_type": "code",
      "source": [
        "# 4. Implement sampling techniques like random sampling and stratified sampling.\n",
        "\n",
        "import pandas as pd\n",
        "from sklearn.model_selection import train_test_split\n",
        "\n",
        "df = pd.DataFrame({\n",
        "    \"ID\": range(1, 101),\n",
        "    \"Group\": [\"A\"]*50 + [\"B\"]*50\n",
        "})\n",
        "\n",
        "# Random Sampling\n",
        "random_sample = df.sample(n=10)\n",
        "\n",
        "# Stratified Sampling\n",
        "stratified_sample = df.groupby('Group', group_keys=False).apply(lambda x: x.sample(5))\n",
        "\n",
        "print(random_sample)\n",
        "print(stratified_sample)\n"
      ],
      "metadata": {
        "colab": {
          "base_uri": "https://localhost:8080/"
        },
        "id": "GJ8Bxghh0Syv",
        "outputId": "9000f7db-3905-42e2-a903-4506bd931948"
      },
      "execution_count": 11,
      "outputs": [
        {
          "output_type": "stream",
          "name": "stdout",
          "text": [
            "    ID Group\n",
            "34  35     A\n",
            "32  33     A\n",
            "5    6     A\n",
            "2    3     A\n",
            "38  39     A\n",
            "94  95     B\n",
            "86  87     B\n",
            "93  94     B\n",
            "25  26     A\n",
            "45  46     A\n",
            "    ID Group\n",
            "27  28     A\n",
            "44  45     A\n",
            "39  40     A\n",
            "9   10     A\n",
            "31  32     A\n",
            "55  56     B\n",
            "85  86     B\n",
            "52  53     B\n",
            "51  52     B\n",
            "60  61     B\n"
          ]
        },
        {
          "output_type": "stream",
          "name": "stderr",
          "text": [
            "<ipython-input-11-50dc6f582149>:15: DeprecationWarning: DataFrameGroupBy.apply operated on the grouping columns. This behavior is deprecated, and in a future version of pandas the grouping columns will be excluded from the operation. Either pass `include_groups=False` to exclude the groupings or explicitly select the grouping columns after groupby to silence this warning.\n",
            "  stratified_sample = df.groupby('Group', group_keys=False).apply(lambda x: x.sample(5))\n"
          ]
        }
      ]
    },
    {
      "cell_type": "code",
      "source": [
        "# 5. Write a Python function to calculate the range of a dataset.\n",
        "\n",
        "def calculate_range(data):\n",
        "    return max(data) - min(data)\n",
        "\n",
        "data = [4, 8, 15, 16, 23, 42]\n",
        "print(\"Range:\", calculate_range(data))\n"
      ],
      "metadata": {
        "colab": {
          "base_uri": "https://localhost:8080/"
        },
        "id": "YkZp2ccv0alE",
        "outputId": "c0f40908-4aab-4950-a8a5-fe3c9ee42fea"
      },
      "execution_count": 12,
      "outputs": [
        {
          "output_type": "stream",
          "name": "stdout",
          "text": [
            "Range: 38\n"
          ]
        }
      ]
    },
    {
      "cell_type": "code",
      "source": [
        "# 6. Create a dataset and plot its histogram to visualize skewness.\n",
        "\n",
        "import matplotlib.pyplot as plt\n",
        "\n",
        "data = np.random.exponential(scale=2, size=1000)\n",
        "\n",
        "plt.hist(data, bins=30)\n",
        "plt.title('Histogram')\n",
        "plt.show()\n"
      ],
      "metadata": {
        "colab": {
          "base_uri": "https://localhost:8080/",
          "height": 452
        },
        "id": "rPGuqSNk0m9t",
        "outputId": "cee3dea0-b672-40e3-b162-b39223c31b1e"
      },
      "execution_count": 13,
      "outputs": [
        {
          "output_type": "display_data",
          "data": {
            "text/plain": [
              "<Figure size 640x480 with 1 Axes>"
            ],
            "image/png": "[encoded data removed]"
          },
          "metadata": {}
        }
      ]
    },
    {
      "cell_type": "code",
      "source": [
        "# 7. Calculate skewness and kurtosis of a dataset using Python libraries.\n",
        "\n",
        "from scipy.stats import skew, kurtosis\n",
        "\n",
        "print(\"Skewness:\", skew(data))\n",
        "print(\"Kurtosis:\", kurtosis(data))\n"
      ],
      "metadata": {
        "colab": {
          "base_uri": "https://localhost:8080/"
        },
        "id": "IC-F9sMB0s3N",
        "outputId": "522ab0a0-fa61-41b9-fd9b-26e60110ff13"
      },
      "execution_count": 14,
      "outputs": [
        {
          "output_type": "stream",
          "name": "stdout",
          "text": [
            "Skewness: 1.7609796476108346\n",
            "Kurtosis: 3.736235060981536\n"
          ]
        }
      ]
    },
    {
      "cell_type": "code",
      "source": [
        "# 8. Generate a dataset and demonstrate positive and negative skewness.\n",
        "\n",
        "positive_skew = np.random.exponential(size=1000)\n",
        "negative_skew = -np.random.exponential(size=1000)\n",
        "\n",
        "plt.hist(positive_skew, bins=30)\n",
        "plt.title(\"Positive Skew\")\n",
        "plt.show()\n",
        "\n",
        "plt.hist(negative_skew, bins=30)\n",
        "plt.title(\"Negative Skew\")\n",
        "plt.show()\n"
      ],
      "metadata": {
        "colab": {
          "base_uri": "https://localhost:8080/",
          "height": 887
        },
        "id": "ZTztNA8h002e",
        "outputId": "15fc310c-86f4-4a54-cee7-76c85d11ad1a"
      },
      "execution_count": 15,
      "outputs": [
        {
          "output_type": "display_data",
          "data": {
            "text/plain": [
              "<Figure size 640x480 with 1 Axes>"
            ],
            "image/png": "[encoded data removed]"
          },
          "metadata": {}
        },
        {
          "output_type": "display_data",
          "data": {
            "text/plain": [
              "<Figure size 640x480 with 1 Axes>"
            ],
            "image/png": "[encoded data removed]"
          },
          "metadata": {}
        }
      ]
    },
    {
      "cell_type": "code",
      "source": [
        "# 9. Write a Python script to calculate covariance between two datasets.\n",
        "\n",
        "x = [1, 2, 3, 4, 5]\n",
        "y = [2, 4, 6, 8, 10]\n",
        "\n",
        "covariance = np.cov(x, y)[0, 1]\n",
        "print(\"Covariance:\", covariance)\n"
      ],
      "metadata": {
        "colab": {
          "base_uri": "https://localhost:8080/"
        },
        "id": "iM4XnceH064n",
        "outputId": "9f96cde9-f583-48fc-91b9-bdfe269b567b"
      },
      "execution_count": 16,
      "outputs": [
        {
          "output_type": "stream",
          "name": "stdout",
          "text": [
            "Covariance: 5.0\n"
          ]
        }
      ]
    },
    {
      "cell_type": "code",
      "source": [
        "# 10. Write a Python script to calculate covariance between two datasets.\n",
        "\n",
        "x = [1, 2, 3, 4, 5]\n",
        "y = [2, 4, 6, 8, 10]\n",
        "\n",
        "covariance = np.cov(x, y)[0, 1]\n",
        "print(\"Covariance:\", covariance)\n"
      ],
      "metadata": {
        "colab": {
          "base_uri": "https://localhost:8080/"
        },
        "id": "KWd0efuq1BG-",
        "outputId": "fe9eefd2-b250-4664-f14f-bc56438a23ca"
      },
      "execution_count": 17,
      "outputs": [
        {
          "output_type": "stream",
          "name": "stdout",
          "text": [
            "Covariance: 5.0\n"
          ]
        }
      ]
    },
    {
      "cell_type": "code",
      "source": [
        "# 11. Write a Python script to calculate the correlation coefficient between two datasets.\n",
        "\n",
        "correlation = np.corrcoef(x, y)[0, 1]\n",
        "print(\"Correlation Coefficient:\", correlation)\n"
      ],
      "metadata": {
        "colab": {
          "base_uri": "https://localhost:8080/"
        },
        "id": "ALWMZBaU1K8T",
        "outputId": "05684e9e-472c-48cd-a456-40536dd734f4"
      },
      "execution_count": 18,
      "outputs": [
        {
          "output_type": "stream",
          "name": "stdout",
          "text": [
            "Correlation Coefficient: 0.9999999999999999\n"
          ]
        }
      ]
    },
    {
      "cell_type": "code",
      "source": [
        "# 12. Create a scatter plot to visualize the relationship between two variables.\n",
        "\n",
        "plt.scatter(x, y)\n",
        "plt.xlabel(\"X\")\n",
        "plt.ylabel(\"Y\")\n",
        "plt.title(\"Scatter Plot\")\n",
        "plt.show()\n"
      ],
      "metadata": {
        "colab": {
          "base_uri": "https://localhost:8080/",
          "height": 472
        },
        "id": "zC5_ggFJ1TLa",
        "outputId": "67273428-9430-4467-a188-636c45b0d490"
      },
      "execution_count": 19,
      "outputs": [
        {
          "output_type": "display_data",
          "data": {
            "text/plain": [
              "<Figure size 640x480 with 1 Axes>"
            ],
            "image/png": "[encoded data removed]"
          },
          "metadata": {}
        }
      ]
    },
    {
      "cell_type": "code",
      "source": [
        "# 13. Implement and compare simple random sampling and systematic sampling.\n",
        "\n",
        "import random\n",
        "\n",
        "# Simple Random Sampling\n",
        "simple_random = random.sample(range(1, 101), 10)\n",
        "\n",
        "# Systematic Sampling\n",
        "population = list(range(1, 101))\n",
        "step = 10\n",
        "systematic = population[::step]\n",
        "\n",
        "print(\"Simple Random Sampling:\", simple_random)\n",
        "print(\"Systematic Sampling:\", systematic)\n"
      ],
      "metadata": {
        "colab": {
          "base_uri": "https://localhost:8080/"
        },
        "id": "IE-0y3aU1Zb4",
        "outputId": "3b262873-b25b-4d72-d833-846451a66558"
      },
      "execution_count": 20,
      "outputs": [
        {
          "output_type": "stream",
          "name": "stdout",
          "text": [
            "Simple Random Sampling: [31, 70, 97, 71, 65, 7, 27, 87, 78, 44]\n",
            "Systematic Sampling: [1, 11, 21, 31, 41, 51, 61, 71, 81, 91]\n"
          ]
        }
      ]
    },
    {
      "cell_type": "code",
      "source": [
        "# 14. Calculate the mean, median, and mode of grouped data. (Grouped data needs interpolation; but a simple example using mid-points:\n",
        "\n",
        "grouped_data = {\n",
        "    \"class_interval\": [(0,10), (10,20), (20,30)],\n",
        "    \"frequency\": [5, 10, 5]\n",
        "}\n",
        "\n",
        "midpoints = [(x[0]+x[1])/2 for x in grouped_data[\"class_interval\"]]\n",
        "frequencies = grouped_data[\"frequency\"]\n",
        "\n",
        "mean = np.average(midpoints, weights=frequencies)\n",
        "print(\"Mean of Grouped Data:\", mean)\n"
      ],
      "metadata": {
        "colab": {
          "base_uri": "https://localhost:8080/"
        },
        "id": "uh7CQypE1g4i",
        "outputId": "4b78b443-dafe-4a2d-8e7a-ca0e02460823"
      },
      "execution_count": 21,
      "outputs": [
        {
          "output_type": "stream",
          "name": "stdout",
          "text": [
            "Mean of Grouped Data: 15.0\n"
          ]
        }
      ]
    },
    {
      "cell_type": "code",
      "source": [
        "# 15. Simulate data using Python and calculate its central tendency and dispersion.\n",
        "\n",
        "data = np.random.normal(loc=50, scale=10, size=1000)\n",
        "\n",
        "print(\"Mean:\", np.mean(data))\n",
        "print(\"Median:\", np.median(data))\n",
        "print(\"Standard Deviation:\", np.std(data))\n"
      ],
      "metadata": {
        "colab": {
          "base_uri": "https://localhost:8080/"
        },
        "id": "40JZzROt1pie",
        "outputId": "3604d344-5dc9-424e-e3b9-2186dc534e17"
      },
      "execution_count": 22,
      "outputs": [
        {
          "output_type": "stream",
          "name": "stdout",
          "text": [
            "Mean: 49.93635036597226\n",
            "Median: 50.15739689029664\n",
            "Standard Deviation: 10.314544890130119\n"
          ]
        }
      ]
    },
    {
      "cell_type": "code",
      "source": [
        "# 16. Use NumPy or pandas to summarize a dataset’s descriptive statistics\n",
        "\n",
        "df = pd.DataFrame({\"values\": data})\n",
        "print(df.describe())\n"
      ],
      "metadata": {
        "colab": {
          "base_uri": "https://localhost:8080/"
        },
        "id": "a8t_eg9S1xP3",
        "outputId": "94ef57d6-1519-4622-d6b2-acad7d9ccae1"
      },
      "execution_count": 23,
      "outputs": [
        {
          "output_type": "stream",
          "name": "stdout",
          "text": [
            "            values\n",
            "count  1000.000000\n",
            "mean     49.936350\n",
            "std      10.319706\n",
            "min      20.215152\n",
            "25%      43.027799\n",
            "50%      50.157397\n",
            "75%      56.806945\n",
            "max      81.500320\n"
          ]
        }
      ]
    },
    {
      "cell_type": "code",
      "source": [
        "# 17. Plot a boxplot to understand the spread and identify outliers.\n",
        "\n",
        "plt.boxplot(data)\n",
        "plt.title('Boxplot')\n",
        "plt.show()\n"
      ],
      "metadata": {
        "colab": {
          "base_uri": "https://localhost:8080/",
          "height": 452
        },
        "id": "Miq_W-Ng12dU",
        "outputId": "9f05c170-d491-47d6-8c80-0e2e90b9e570"
      },
      "execution_count": 24,
      "outputs": [
        {
          "output_type": "display_data",
          "data": {
            "text/plain": [
              "<Figure size 640x480 with 1 Axes>"
            ],
            "image/png": "[encoded data removed]"
          },
          "metadata": {}
        }
      ]
    },
    {
      "cell_type": "code",
      "source": [
        "# 18. Calculate the interquartile range (IQR) of a dataset.\n",
        "\n",
        "Q1 = np.percentile(data, 25)\n",
        "Q3 = np.percentile(data, 75)\n",
        "IQR = Q3 - Q1\n",
        "print(\"IQR:\", IQR)\n"
      ],
      "metadata": {
        "colab": {
          "base_uri": "https://localhost:8080/"
        },
        "id": "ZVbLFD1T19QK",
        "outputId": "ae068bbd-0178-4284-9e19-21349c68b7f0"
      },
      "execution_count": 25,
      "outputs": [
        {
          "output_type": "stream",
          "name": "stdout",
          "text": [
            "IQR: 13.779146260801895\n"
          ]
        }
      ]
    },
    {
      "cell_type": "code",
      "source": [
        "# 19. Implement Z-score normalization and explain its significance.\n",
        "\n",
        "from scipy.stats import zscore\n",
        "\n",
        "normalized_data = zscore(data)\n",
        "print(normalized_data)\n"
      ],
      "metadata": {
        "colab": {
          "base_uri": "https://localhost:8080/"
        },
        "id": "ygi4hqR12EWx",
        "outputId": "b514dcc2-0fbf-410b-f05d-0745fe7c9983"
      },
      "execution_count": 26,
      "outputs": [
        {
          "output_type": "stream",
          "name": "stdout",
          "text": [
            "[-1.79410772e-01 -7.58498391e-01 -1.31401010e+00 -1.51370583e+00\n",
            "  3.74845098e-01 -2.07571658e-01 -7.60547471e-01  4.20919414e-02\n",
            "  1.03083268e+00  6.46272719e-01 -1.35894241e-01  4.51796575e-01\n",
            " -1.03285354e+00 -5.91695536e-01  1.48842269e+00 -2.90878175e-01\n",
            " -5.25828046e-02  7.52129903e-01 -8.94955560e-03  4.93716385e-01\n",
            "  1.33269950e+00 -1.39255306e+00  6.45261971e-02  1.80093368e-01\n",
            "  4.71211981e-01  5.50771578e-01  3.02361996e-01  9.95631275e-01\n",
            "  1.71605279e+00 -6.42575208e-01  1.78640485e+00  2.22883012e+00\n",
            "  4.26419862e-01  3.83539971e-01 -6.20656895e-01 -7.55454021e-02\n",
            " -6.95607418e-01  7.16115872e-01 -1.06091368e-01  1.02423358e-01\n",
            "  1.03183506e+00  2.35222832e-01  8.75348593e-01  5.73148274e-01\n",
            "  7.02201558e-02 -2.03091790e-01 -6.41442391e-01 -1.71616924e-01\n",
            " -2.19416653e-01  6.46000210e-01 -3.99572723e-02  5.20697253e-01\n",
            "  2.76768635e-02  1.49683702e+00 -1.39454549e+00  1.98889796e-01\n",
            " -1.46316924e+00  5.59774104e-01 -1.91328024e+00  2.47806315e-01\n",
            "  1.56634747e+00  1.25889611e+00  1.30767561e+00 -1.45026138e+00\n",
            " -4.30805374e-01 -2.78170030e+00 -1.43139058e+00 -1.17809262e+00\n",
            "  3.91688473e-03  1.68066880e+00  3.72533200e-01  3.06785812e-01\n",
            " -4.54890765e-01 -9.86416861e-02  9.89439499e-01  4.99955022e-01\n",
            "  2.87348732e-01 -3.47065067e-01  2.41596256e-01  6.93759558e-01\n",
            "  6.02837286e-01  9.49994876e-01 -6.11803861e-01  3.87264209e-01\n",
            " -1.21794831e+00 -1.19300976e+00  6.08801120e-01  6.56160743e-01\n",
            " -7.97133540e-01  1.13481875e+00 -1.05418103e+00 -9.92700058e-01\n",
            "  7.10639681e-01 -3.59615976e-02 -7.23856321e-01  1.56482669e+00\n",
            " -4.36554126e-01 -1.36531185e+00  3.42321944e-04  8.85895415e-01\n",
            "  1.69669784e+00  1.31039598e+00  1.56371584e-02  2.89161047e-01\n",
            "  4.63495520e-01  9.12359988e-01  6.65149906e-01 -9.02985880e-01\n",
            "  9.17970616e-01  4.81910743e-01 -8.71370459e-01 -1.03391048e+00\n",
            " -1.41651167e+00 -3.38265181e-01  1.44476147e+00 -1.32264870e+00\n",
            "  1.34729862e-01  2.81517589e-01 -1.73102104e-01  1.55620382e+00\n",
            "  5.61630035e-01 -1.07167683e-01 -3.95705899e-02 -1.63510969e-01\n",
            "  6.00359712e-01 -8.63010024e-01  1.96637126e+00  1.24384778e+00\n",
            " -1.26400602e+00 -2.58794073e-01 -5.78292206e-01  7.41885115e-01\n",
            "  5.02526350e-01 -2.13070352e-01  1.73433054e+00  5.69973806e-01\n",
            " -2.76088992e-01  5.51172188e-01  2.48490603e-01 -9.88888555e-01\n",
            " -1.11852978e+00 -8.89798413e-01 -1.56157281e+00 -4.58215448e-01\n",
            "  1.10837242e+00  1.12868666e+00 -1.14305437e+00 -3.71677273e-01\n",
            "  1.69250803e+00  1.90124855e+00  1.51059653e+00  1.98708842e+00\n",
            "  2.03656110e-01  2.66892605e-01  5.07088585e-02 -9.15258290e-01\n",
            " -2.77072047e-01 -1.31196027e-02  6.41769277e-01  1.47859811e+00\n",
            "  9.36755268e-01 -2.86688620e-01 -1.26373384e+00 -1.07202961e+00\n",
            " -5.31682021e-01  1.38148609e+00  2.05401196e-01 -5.36271644e-01\n",
            " -4.13379927e-01  8.47956956e-01  4.46683655e-01  5.56073327e-01\n",
            "  1.16684484e+00  1.36010204e+00  4.39529057e-01 -2.23628874e+00\n",
            " -8.49325624e-02 -5.41086158e-01 -7.31836600e-01 -1.47804337e+00\n",
            " -1.42929292e+00  2.01483456e+00 -1.09362050e+00 -1.17207326e+00\n",
            "  5.92969828e-01 -4.77845794e-01  4.77273215e-01  6.10622210e-01\n",
            "  3.85360864e-01 -2.81524699e-01 -1.06771172e-02  2.06639144e+00\n",
            " -1.09236148e+00 -3.16899808e-02 -1.79830383e+00 -4.77399961e-01\n",
            "  2.21690601e+00  8.10389451e-01 -1.25839348e-02 -1.32650502e+00\n",
            " -1.04547107e+00  2.17030745e-01 -6.72832970e-01 -4.77958223e-01\n",
            " -2.41591637e-01  4.91115079e-01 -6.72635792e-02  1.84304640e-01\n",
            " -3.87195762e-01  5.38673605e-01  7.94610237e-02 -1.07789537e+00\n",
            " -3.70682702e-01  2.21512394e-02  1.46074841e+00 -5.89663049e-01\n",
            "  1.26484932e+00  8.17749709e-01 -1.86707325e-01 -1.40235503e+00\n",
            " -2.06864596e-02 -2.27736462e+00 -4.94394972e-01  7.46612384e-01\n",
            "  7.85313207e-01  1.59939975e+00 -7.54697539e-03  7.76583044e-01\n",
            "  9.10404281e-01 -6.57488109e-01  1.20630236e+00 -6.04954046e-02\n",
            " -6.86462171e-01  1.96094377e+00  1.40727714e+00  3.59946402e-01\n",
            "  7.69433079e-02 -3.26519812e-01  7.06424968e-01  5.35136914e-01\n",
            " -9.33641265e-01 -2.05815492e+00 -9.91838917e-01  1.27024005e+00\n",
            "  1.80008412e-01  2.06831425e+00  9.01035770e-01 -1.16398545e+00\n",
            " -2.14631577e-01  7.20232407e-01  8.39803489e-01 -3.90676844e-01\n",
            "  1.03717702e-01 -1.06790364e-01 -2.04232613e-01 -4.92430144e-01\n",
            "  2.13226500e-01 -7.24577434e-01  3.06014176e+00 -4.64574483e-02\n",
            " -8.70996021e-01 -1.38260366e+00 -1.47500242e+00 -1.04267732e+00\n",
            " -1.22109002e+00  3.96258156e-01 -2.53127583e-01  3.69435334e-01\n",
            " -1.89859161e-02  1.24836137e+00  2.73575966e-01 -1.73960605e+00\n",
            " -6.99685559e-01  1.15023466e+00  1.32186058e+00 -2.54919630e-01\n",
            "  6.12967230e-01 -6.71757569e-01 -9.11563700e-02 -3.51468377e-02\n",
            "  8.42921293e-01  9.91731527e-01 -1.95353667e+00 -1.19289183e+00\n",
            " -3.45187420e-01  7.66993465e-01 -3.88506659e-01  3.43148310e-01\n",
            " -1.59303212e+00  2.38535107e-01  9.45224200e-01  9.09313476e-01\n",
            " -3.79352918e-01 -8.74118585e-01 -6.30715969e-01  9.62387920e-01\n",
            "  3.74155496e-01  1.79803148e-01 -1.59878303e+00  2.54685924e+00\n",
            "  1.89808384e+00  1.48764487e+00  3.55635167e-01  2.01565361e+00\n",
            "  4.56398063e-01  4.54120900e-02  2.51428098e+00 -5.22272042e-01\n",
            " -1.79809012e+00  7.78716457e-01  3.11191486e-01 -1.64080764e-01\n",
            " -3.23664868e-01  4.70901440e-01 -6.44142895e-01 -3.64887822e-01\n",
            "  2.10255951e-01 -9.65986043e-01 -2.28799966e+00  8.24451287e-01\n",
            " -6.34426655e-01 -4.61166033e-01 -1.58021898e+00  5.22966832e-01\n",
            "  1.06855103e+00 -4.32529733e-01  6.25128792e-01 -5.31778194e-01\n",
            " -2.58822470e+00 -4.33531513e-01  1.79523762e-02 -7.80959686e-01\n",
            " -3.24405134e-01 -6.01317987e-01  2.61679125e+00  1.15561799e+00\n",
            "  4.01620076e-01 -8.46491370e-01 -1.12300242e+00  1.05882721e+00\n",
            " -1.39862702e+00 -1.07140487e+00  4.41574450e-01  5.17810492e-01\n",
            "  1.26689353e+00 -2.34944492e+00  1.63599995e+00  3.92853645e-01\n",
            "  1.18872597e+00 -1.27958075e+00  8.89058526e-01  6.33591694e-01\n",
            " -1.92780320e+00  2.30050330e+00 -4.97520522e-01  9.50656842e-01\n",
            " -8.14022615e-01  5.87650429e-01  5.83654403e-01 -5.99108426e-01\n",
            "  8.17161225e-01 -3.15206375e-02 -9.94052542e-01  5.75756245e-01\n",
            " -5.03237681e-01 -8.82484446e-01 -8.91231812e-01 -1.71960886e+00\n",
            " -8.06406930e-01  1.11000489e+00  1.00872670e+00 -9.29759494e-01\n",
            " -2.08615709e-01  8.24555021e-02 -1.05494502e+00  5.18265070e-01\n",
            " -2.04479912e+00  5.40614777e-01 -8.94099572e-01 -2.23855967e-02\n",
            " -7.68498183e-01 -8.23789452e-01  6.96457393e-01 -1.06808180e+00\n",
            "  1.42505384e+00  2.61838636e-01 -2.01749230e+00 -3.69809604e-01\n",
            " -2.05531420e+00 -2.07791161e-01  9.14424783e-01  6.68979962e-01\n",
            " -1.04310969e+00  8.10206350e-01 -2.73674771e-01  8.01688543e-01\n",
            " -2.08348078e+00 -3.64459823e-01  7.66529715e-02  1.28384935e+00\n",
            " -4.95440963e-01  8.89108558e-01  8.82776521e-01 -1.06380719e+00\n",
            " -6.04335212e-01  2.52874374e-01 -6.86600672e-01 -1.63397068e+00\n",
            "  6.47168460e-02 -1.08420913e+00  1.14564053e+00  9.92797007e-02\n",
            "  1.28893790e+00  9.47336353e-01  1.28815883e+00  5.87076106e-01\n",
            "  1.28017252e-01  9.29908103e-01  1.72635667e+00 -1.43661082e+00\n",
            " -1.13350091e+00 -2.08671559e-01 -1.44443026e+00 -1.21013267e+00\n",
            " -9.74901581e-01  9.20749786e-01 -4.50141581e-01 -6.94804851e-01\n",
            " -1.24199445e-02  1.28959750e+00 -7.70921635e-01  9.17378764e-02\n",
            " -7.11095282e-02 -1.82795325e+00 -7.73528112e-01 -1.01992350e+00\n",
            "  5.49937913e-01 -1.36550986e+00 -2.26466289e+00  7.69242680e-01\n",
            " -6.04944087e-01 -1.04825298e+00  2.12795359e+00  1.07362066e+00\n",
            " -8.58842136e-01  8.13687724e-01 -2.25130365e-01 -6.64380177e-01\n",
            " -2.71828684e-01  2.84341909e-01  1.40152548e+00  1.55219988e+00\n",
            "  7.66300589e-01 -6.76526192e-01  2.22142954e-01 -4.21638167e-01\n",
            " -2.15411661e-01 -5.78947862e-01 -1.49111702e+00 -8.57604713e-01\n",
            "  8.91486131e-01 -6.14306414e-01 -4.32897291e-01  7.65274583e-03\n",
            "  5.53043713e-01 -5.74474201e-02 -5.51137816e-01 -6.59562920e-01\n",
            " -1.37591444e+00  2.77199241e-01 -5.31543050e-01 -1.27013565e+00\n",
            " -9.89670770e-02  4.20258408e-01 -8.74469863e-01 -9.82465866e-02\n",
            "  8.30668509e-01 -7.90998273e-01 -8.13924540e-01  1.23224205e+00\n",
            "  1.48539018e+00 -6.09305875e-01  3.16857779e-01  7.30837466e-01\n",
            "  5.85749404e-01  1.04144994e+00 -3.30450331e-01  2.07098905e-02\n",
            " -3.23444751e-01  5.81480920e-01 -1.20353831e+00  6.84683313e-02\n",
            " -2.89300712e-01  1.19054298e+00  1.49591240e-01  1.28400326e+00\n",
            " -1.77160795e+00 -1.92992641e+00  1.43950590e-01 -7.29931058e-01\n",
            " -9.46455791e-01 -8.22418748e-01  1.05839550e+00 -9.84688142e-01\n",
            "  1.78556869e+00 -1.53668169e-01 -6.72154680e-01 -3.67590357e-01\n",
            " -4.48320532e-01 -7.88228465e-01  1.45598865e-01  1.10513915e+00\n",
            "  9.15661477e-01 -9.23134344e-02  1.44090264e-01 -5.90259555e-01\n",
            "  1.12736551e-01  1.00648578e+00  8.56523747e-01  2.90596696e-02\n",
            " -9.79943612e-01  5.13188374e-02  2.50376701e-01 -8.39997658e-01\n",
            "  3.51933636e-01  2.54942378e-01 -2.51158428e+00 -6.17722160e-01\n",
            "  1.78163724e+00 -7.16254969e-01  2.07737516e+00 -4.98985278e-01\n",
            "  6.57231205e-01  5.68591278e-01  1.14291944e+00  6.63447018e-01\n",
            "  1.16109607e+00 -4.16061195e-01 -6.57718579e-01 -7.81252326e-03\n",
            " -3.01910935e-01  1.24169430e+00 -6.67432624e-01  1.47441538e+00\n",
            " -1.89908085e+00 -1.17544834e+00 -7.08869317e-01 -1.13790016e+00\n",
            " -1.02881971e+00 -1.02495985e+00 -8.02601140e-01  8.75925319e-01\n",
            "  1.32409760e-01 -4.03896238e-01 -4.21080071e-01 -3.27567969e-01\n",
            " -1.36324556e+00 -7.30836776e-01  8.09888763e-01  5.45158149e-01\n",
            " -1.73463027e+00  6.14333247e-01  3.62941564e-01 -6.56275809e-01\n",
            "  1.24616173e+00  9.78732868e-01 -2.11682830e+00  6.31498084e-01\n",
            "  1.34938886e+00 -4.29049603e-01  5.23294581e-01  6.34558061e-01\n",
            " -2.96695546e-01  5.94277800e-01 -4.30347534e-01  1.00437168e+00\n",
            " -1.10959241e-01 -3.08330924e-01  1.07560904e+00  4.14977325e-01\n",
            "  3.69872340e-01  2.23262864e-01 -3.62048901e-01  2.27207195e+00\n",
            "  1.05559588e+00  7.56744058e-01  2.54642143e-01  1.07369757e+00\n",
            "  2.14607728e+00 -3.21026171e-01  1.25801892e+00  1.40495222e+00\n",
            "  4.13274079e-01  1.27166574e+00 -4.92114884e-01 -1.09649743e-01\n",
            "  1.42882331e-01  8.78194045e-02 -9.25566272e-01  4.11072540e-01\n",
            " -6.88310541e-01 -8.01708811e-02  2.20803889e-01  8.06207595e-01\n",
            "  2.15489929e+00  4.74187759e-01 -9.65992926e-02 -5.98709933e-01\n",
            "  1.16237601e-01 -7.60275204e-01 -4.19359756e-01  5.19244381e-01\n",
            "  3.23559934e-03  2.09685864e-01  5.65038006e-01  1.35392483e+00\n",
            " -2.29410947e+00  6.85991000e-01  2.02998683e+00 -2.14218714e+00\n",
            "  2.06831704e-01 -6.06085761e-01  1.47011590e+00 -1.11579239e+00\n",
            " -7.86509652e-01 -1.02109706e+00  1.03370655e+00  4.84120451e-02\n",
            " -8.29588798e-02  1.12280988e+00 -5.89895453e-01  9.30859568e-01\n",
            "  1.64660146e+00 -1.07704881e+00  1.59032434e+00  1.33579340e+00\n",
            "  1.84712821e+00 -1.47099339e+00  2.11820787e-01  8.67037931e-02\n",
            " -2.72516676e+00  1.67917478e+00  4.58066776e-01 -6.11595212e-01\n",
            "  6.75135213e-01  2.98455610e-02 -6.63247171e-01 -4.34424671e-01\n",
            "  1.88628462e-01  2.37320029e-01  9.80528703e-01  1.76845286e+00\n",
            " -1.31792302e+00 -1.50308671e-01 -1.29630359e-01 -4.37281065e-01\n",
            "  3.76555737e-01  1.30804175e+00 -6.90470266e-01  1.20471784e+00\n",
            "  1.91219528e+00  4.67246887e-01 -9.00332247e-01  6.98889230e-01\n",
            "  7.49760409e-01  6.60540784e-01  7.26943387e-01  2.26109386e-01\n",
            " -4.22298691e-01  6.81290580e-01  5.85502331e-01  1.08502054e+00\n",
            "  5.98182255e-01 -9.47251398e-01 -3.40936194e-02 -5.36186123e-01\n",
            "  4.20937287e-01  4.21402788e-01  2.10630015e+00 -1.43069973e+00\n",
            " -8.33106183e-01  4.87025147e-01  3.82937434e-01 -7.90767912e-01\n",
            "  2.36300036e-01  9.01323508e-01  4.14900825e-01 -5.75415646e-01\n",
            " -5.34941253e-01  1.54015028e-01 -1.08844453e+00  4.97958164e-01\n",
            " -4.96383529e-01  1.36623952e+00  7.29375931e-02 -3.59336106e-01\n",
            "  4.08428007e-01 -1.49652689e+00 -5.54832385e-01 -1.80115854e-01\n",
            "  2.12985018e+00  1.57019979e-01  1.82611753e-01 -9.11394913e-01\n",
            " -4.06536098e-02 -5.24520945e-02  1.36662005e+00  8.39792049e-02\n",
            " -2.21223738e-01  1.62666169e-01  8.55128275e-02  4.94289200e-01\n",
            " -2.22766753e+00  7.01018369e-01 -6.11148213e-01 -3.34443350e-01\n",
            " -1.11258998e+00  8.40210686e-01  8.51154165e-01  1.68953421e-01\n",
            " -8.19182221e-01 -4.28849317e-02  5.74668159e-01  5.93798259e-01\n",
            " -5.50407307e-01 -2.82894574e-01  1.51468707e+00 -1.55337402e+00\n",
            " -1.78504801e-01 -8.20532438e-01  7.65283305e-01  5.00605347e-01\n",
            "  1.00111081e+00  7.48335215e-01 -6.69175980e-01  5.64925238e-01\n",
            "  1.13014813e+00 -1.72578300e+00 -1.04882311e+00  1.20519928e+00\n",
            "  5.55852229e-01  1.13800790e-01  7.46499919e-01  1.19650714e+00\n",
            "  3.87280121e-01  1.39747881e-01  8.95149839e-01 -2.64778639e-01\n",
            " -1.55022168e+00  5.25071315e-01 -5.52217865e-01  5.06867712e-01\n",
            " -7.92211668e-01  7.43419585e-01 -5.80285077e-01 -3.95558590e-01\n",
            " -4.07808051e-01 -1.59011816e-01  3.86908106e-01 -2.14443777e-01\n",
            " -1.90270711e-01  1.37066997e+00  6.19444296e-02 -5.78778522e-01\n",
            " -3.32009107e-02 -4.50616794e-02  1.88954997e-01 -1.15866870e+00\n",
            "  4.21821255e-01  9.85299679e-01  2.04662362e+00 -5.36897616e-02\n",
            " -9.13954126e-01 -8.30162646e-01 -4.45335729e-01 -2.74717693e+00\n",
            " -6.70548786e-01 -3.79002097e-01  1.36282633e+00  2.77340273e-01\n",
            "  8.07472420e-02 -2.14266034e+00 -4.89990882e-01  2.01790089e-01\n",
            "  6.90530657e-01  4.56395009e-01  1.18368278e+00 -8.00441087e-01\n",
            "  1.56978780e-01 -1.23194674e+00  5.99871504e-01  1.65904608e-01\n",
            " -8.25174107e-01 -4.02568018e-01 -5.47644786e-01 -4.60946463e-01\n",
            "  1.91748739e-01  2.10230118e-01  1.18473308e+00  3.94564355e-02\n",
            "  5.21692920e-02 -6.27347157e-01 -1.76982466e+00  9.74184688e-01\n",
            "  8.21683024e-01  6.07850477e-01  1.08811348e+00  3.77233431e-01\n",
            "  1.39782147e-01 -1.63252172e+00 -7.88278700e-02 -6.69533498e-01\n",
            " -1.27053882e+00 -6.29805686e-02  6.93563019e-01  9.22131906e-01\n",
            " -7.03236464e-01 -1.03753756e+00 -1.86945489e+00 -1.09763667e-01\n",
            " -1.83081839e+00 -1.31871616e+00  1.45584723e+00  3.98485284e-01\n",
            " -1.04589491e-01 -4.93270782e-01 -5.32389625e-01 -1.15534187e+00\n",
            "  1.17983376e+00 -1.58441696e+00 -5.42464587e-02  8.38536833e-02\n",
            "  8.36476538e-02 -3.60404095e-01 -8.07565230e-01 -1.18437203e+00\n",
            " -1.20149039e+00  1.07409077e+00  6.92081884e-02  4.21484243e-01\n",
            " -1.39211598e+00 -1.21340021e-01  6.25842889e-01  5.54450623e-01\n",
            "  2.20990972e-01 -1.50332580e+00  1.65044315e+00  8.99358930e-01\n",
            "  1.21630601e+00 -1.23778912e+00 -1.02492257e+00  5.79893498e-01\n",
            " -9.66623242e-01  6.92265870e-01 -6.41828134e-01 -1.76525964e+00\n",
            " -1.36187305e+00  1.86200718e+00 -1.51766262e+00  3.81574080e-01\n",
            " -2.92579203e-01 -1.91033465e+00 -6.95312650e-01  5.26542369e-01\n",
            " -2.78015978e-01 -2.29203850e+00  9.36394633e-01 -1.03991830e+00\n",
            "  8.24993673e-01  3.49553326e-01  7.70507858e-01  2.45900175e-01\n",
            " -1.62513718e+00 -6.99554889e-01 -2.27254984e+00  5.32982227e-01\n",
            "  2.12067895e+00  2.35818373e+00  1.04596393e+00 -1.02647580e+00\n",
            " -5.76636560e-01 -2.24946321e+00 -1.88703385e+00  5.29662930e-01\n",
            "  9.96268289e-01  6.94343774e-02 -2.65676605e+00 -1.10095603e+00\n",
            " -5.01475080e-01  5.05380862e-01  4.45595838e-01  9.61525597e-01\n",
            "  1.97084835e+00  2.58775077e-01 -1.94748536e+00 -1.28649833e-01\n",
            "  2.07679906e+00  7.32133246e-01 -4.03321117e-01 -1.29202893e+00\n",
            "  2.21526996e-01  4.11775030e-01  4.13347524e-01  4.89145743e-01\n",
            "  2.89098081e-01 -8.60552425e-01 -8.24060210e-01 -3.72976302e-01\n",
            " -2.68511749e-02 -1.86920672e+00 -6.26823220e-01 -6.10974477e-01\n",
            " -3.29885417e-01  1.05543150e+00  1.49246946e+00  2.00016986e+00\n",
            "  1.72920495e+00  2.55806370e+00  3.08172730e-01 -5.27444722e-01\n",
            " -6.66397445e-01  7.22667554e-01  4.32822746e-01 -1.37323999e+00\n",
            " -1.52726922e+00 -8.12334573e-01  7.71489046e-02 -1.31327280e+00\n",
            "  2.00968051e+00 -1.15143863e+00 -8.45898657e-01  1.93429403e+00\n",
            " -4.35457572e-01 -3.93430812e-02  9.83016546e-01  1.56318953e+00\n",
            " -7.97525977e-02 -1.67118096e-01  1.69265847e-03 -1.09376612e+00\n",
            " -5.56781113e-01  1.94655752e-01  6.57993049e-01  7.35477324e-01\n",
            "  5.27433086e-01 -9.04473031e-01  1.48365869e-01  8.64761383e-01\n",
            " -6.49138760e-01 -1.55647859e+00  8.66620646e-01 -1.05956595e+00\n",
            " -9.07948251e-01 -1.51777719e-02 -1.07826982e+00 -2.88148427e+00\n",
            "  8.80446368e-02  1.64944557e+00 -1.20980961e+00 -2.29413202e+00\n",
            " -2.62554177e-01  2.55847870e-01  5.77616180e-01 -2.39917348e-01\n",
            "  2.93748857e-01  1.41724513e-01 -1.66644558e+00 -2.30249114e-01\n",
            " -4.74905828e-02 -1.04174514e-02  1.21525919e+00  5.55998219e-01\n",
            "  1.44093491e+00 -1.02399863e+00 -4.34420702e-01 -1.51178876e-01\n",
            "  1.14356238e+00  6.13626637e-01  9.30990407e-01  2.23925954e-01\n",
            "  1.78334819e-01  1.07719309e+00  1.31262274e-01  5.99590074e-01\n",
            " -8.04359302e-02 -1.14836680e+00 -1.95421789e+00 -3.77582759e-01\n",
            " -5.72777494e-01 -1.12971257e-01 -1.68101668e+00 -1.56650230e+00\n",
            "  2.14890632e+00 -2.26449371e+00 -1.20054878e+00 -5.42842645e-01\n",
            " -1.72526744e+00  9.70513548e-01  3.66094940e-01  4.37408527e-01]\n"
          ]
        }
      ]
    },
    {
      "cell_type": "code",
      "source": [
        "# 20. Compare two datasets using their standard deviations.\n",
        "\n",
        "data1 = np.random.normal(0, 1, 100)\n",
        "data2 = np.random.normal(0, 5, 100)\n",
        "\n",
        "print(\"Std Dev Data1:\", np.std(data1))\n",
        "print(\"Std Dev Data2:\", np.std(data2))\n"
      ],
      "metadata": {
        "colab": {
          "base_uri": "https://localhost:8080/"
        },
        "id": "fQHQccZu2MnJ",
        "outputId": "daa61c93-1716-45b7-e712-6d68f10f9b85"
      },
      "execution_count": 27,
      "outputs": [
        {
          "output_type": "stream",
          "name": "stdout",
          "text": [
            "Std Dev Data1: 0.8998699110922893\n",
            "Std Dev Data2: 4.511215341374416\n"
          ]
        }
      ]
    },
    {
      "cell_type": "code",
      "source": [
        "# 21. Write a Python program to visualize covariance using a heatmap.\n",
        "\n",
        "\n",
        "import seaborn as sns\n",
        "\n",
        "df = pd.DataFrame({'x': x, 'y': y})\n",
        "sns.heatmap(df.cov(), annot=True)\n",
        "plt.show()\n"
      ],
      "metadata": {
        "colab": {
          "base_uri": "https://localhost:8080/",
          "height": 435
        },
        "id": "G7WkfKzT2UNz",
        "outputId": "3e2848ca-a147-49c6-c882-994d67d1e751"
      },
      "execution_count": 40,
      "outputs": [
        {
          "output_type": "display_data",
          "data": {
            "text/plain": [
              "<Figure size 640x480 with 2 Axes>"
            ],
            "image/png": "[encoded data removed]"
          },
          "metadata": {}
        }
      ]
    },
    {
      "cell_type": "code",
      "source": [
        "# 22. Use seaborn to create a correlation matrix for a dataset.\n",
        "\n",
        "sns.heatmap(df.corr(), annot=True)\n",
        "plt.show()\n"
      ],
      "metadata": {
        "colab": {
          "base_uri": "https://localhost:8080/",
          "height": 435
        },
        "id": "tZfdViP42arV",
        "outputId": "74d5867c-1368-4544-8b77-7275d7f5ac38"
      },
      "execution_count": 29,
      "outputs": [
        {
          "output_type": "display_data",
          "data": {
            "text/plain": [
              "<Figure size 640x480 with 2 Axes>"
            ],
            "image/png": "[encoded data removed]"
          },
          "metadata": {}
        }
      ]
    },
    {
      "cell_type": "code",
      "source": [
        "# 23. Generate a dataset and implement both variance and standard deviation computations.\n",
        "\n",
        "# Generate a dataset\n",
        "dataset = np.random.randint(10, 100, 20)\n",
        "\n",
        "# Calculate Variance\n",
        "variance = np.var(dataset)\n",
        "\n",
        "# Calculate Standard Deviation\n",
        "std_deviation = np.std(dataset)\n",
        "\n",
        "print(\"Dataset:\", dataset)\n",
        "print(\"Variance:\", variance)\n",
        "print(\"Standard Deviation:\", std_deviation)\n",
        "\n"
      ],
      "metadata": {
        "colab": {
          "base_uri": "https://localhost:8080/"
        },
        "id": "LE4Y3T6Y2gf8",
        "outputId": "d3e04187-ab67-4371-eae3-a2a01754a678"
      },
      "execution_count": 35,
      "outputs": [
        {
          "output_type": "stream",
          "name": "stdout",
          "text": [
            "Dataset: [13 84 67 15 97 31 55 16 89 66 18 72 37 11 32 36 38 31 89 97]\n",
            "Variance: 875.9100000000001\n",
            "Standard Deviation: 29.59577672574248\n"
          ]
        }
      ]
    },
    {
      "cell_type": "code",
      "source": [
        "# 24. Visualize skewness and kurtosis using Python libraries like matplotlib or seaborn.\n",
        "\n",
        "import numpy as np\n",
        "import matplotlib.pyplot as plt\n",
        "import seaborn as sns\n",
        "from scipy.stats import skew, kurtosis\n",
        "\n",
        "# Generate a random dataset\n",
        "data = np.random.normal(loc=0, scale=1, size=1000)\n",
        "\n",
        "# Plot histogram using Seaborn\n",
        "sns.histplot(data, kde=True)\n",
        "plt.title(f\"Skewness: {skew(data):.2f}, Kurtosis: {kurtosis(data):.2f}\")\n",
        "plt.xlabel('Data values')\n",
        "plt.ylabel('Frequency')\n",
        "plt.show()\n"
      ],
      "metadata": {
        "colab": {
          "base_uri": "https://localhost:8080/",
          "height": 472
        },
        "id": "KyhT7VAh2peW",
        "outputId": "b69f84f1-fae3-4540-a930-c5f93c02e94e"
      },
      "execution_count": 34,
      "outputs": [
        {
          "output_type": "display_data",
          "data": {
            "text/plain": [
              "<Figure size 640x480 with 1 Axes>"
            ],
            "image/png": "[encoded data removed]"
          },
          "metadata": {}
        }
      ]
    },
    {
      "cell_type": "code",
      "source": [
        "# 25. Implement the Pearson and Spearman correlation coefficients for a dataset.\n",
        "\n",
        "from scipy.stats import pearsonr, spearmanr\n",
        "\n",
        "pearson_corr, _ = pearsonr(x, y)\n",
        "spearman_corr, _ = spearmanr(x, y)\n",
        "\n",
        "print(\"Pearson Correlation:\", pearson_corr)\n",
        "print(\"Spearman Correlation:\", spearman_corr)\n"
      ],
      "metadata": {
        "colab": {
          "base_uri": "https://localhost:8080/"
        },
        "id": "Q4XPR5NY2rC4",
        "outputId": "bf81d972-9d00-44f6-dbb0-7d1ee41dc567"
      },
      "execution_count": 33,
      "outputs": [
        {
          "output_type": "stream",
          "name": "stdout",
          "text": [
            "Pearson Correlation: 1.0\n",
            "Spearman Correlation: 0.9999999999999999\n"
          ]
        }
      ]
    }
  ]
}